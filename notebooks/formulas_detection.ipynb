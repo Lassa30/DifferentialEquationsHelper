{
 "cells": [
  {
   "cell_type": "markdown",
   "metadata": {},
   "source": [
    "# DiffEq detection"
   ]
  },
  {
   "cell_type": "code",
   "execution_count": 147,
   "metadata": {},
   "outputs": [],
   "source": [
    "# tools\n",
    "import os\n",
    "from tqdm.auto import tqdm\n",
    "\n",
    "# essentials\n",
    "import numpy as np\n",
    "from matplotlib import pyplot as plt\n",
    "import cv2 as cv\n",
    "import torch\n",
    "from torchvision.transforms import v2\n",
    "import torchvision as torchv\n",
    "from torchvision.transforms import v2"
   ]
  },
  {
   "cell_type": "markdown",
   "metadata": {},
   "source": [
    "# Plan\n",
    "\n",
    "1) Find images\n",
    "\n",
    "2) Label images using [labelme](https://github.com/wkentaro/labelme?tab=readme-ov-file) tool\n",
    "\n",
    "3) Create train/test split\n",
    "\n",
    "4) Train models\n",
    "\n",
    "5) Evaluate models\n",
    "\n",
    "6) Choose model"
   ]
  },
  {
   "cell_type": "markdown",
   "metadata": {},
   "source": [
    "### 1. Find images"
   ]
  },
  {
   "cell_type": "markdown",
   "metadata": {},
   "source": [
    "We are going to use images from:\n",
    "\n",
    "- PDF files containing math expressions\n",
    "- our handwritten calculus notes\n",
    "\n",
    "The images are going to be preprocessed in some way\n",
    "\n",
    "The ImagePreparator class has been created for repeatability of preprocessing"
   ]
  },
  {
   "cell_type": "code",
   "execution_count": 148,
   "metadata": {},
   "outputs": [],
   "source": [
    "import pymupdf\n",
    "from PIL import Image\n",
    "import pyheif\n",
    "import os\n",
    "\n",
    "class RawImagesPreparator:\n",
    "    def __init__(self, pdf_data_dir_path=None, pdf_to_image_save_path=None, images_path=None, verbose=False):\n",
    "        self.pdf_data_dir_path = pdf_data_dir_path\n",
    "        self.pdf_to_image_save_path = pdf_to_image_save_path\n",
    "        self.images_path = images_path\n",
    "        self.verbose = verbose\n",
    "        self.heic_converted = False\n",
    "\n",
    "    def pdf_pages_to_images(self, logging=False):\n",
    "        if not all(\n",
    "            (\n",
    "                os.path.isdir(self.pdf_to_image_save_path),\n",
    "                os.path.isdir(self.pdf_data_dir_path),\n",
    "            )\n",
    "        ):\n",
    "            return None\n",
    "        if self.verbose:\n",
    "            print(\"pdf_pages_to_images: the provided paths is ok...\")\n",
    "\n",
    "        pdf_files_dir = os.listdir(self.pdf_data_dir_path)\n",
    "        for file in pdf_files_dir:\n",
    "            images_dir = self.pdf_to_image_save_path + f\"/{file.split('.')[0]}\"\n",
    "            # if not os.path.isdir(images_dir):\n",
    "            #     os.mkdir(images_dir)\n",
    "\n",
    "            doc_path = self.pdf_data_dir_path + f\"/{file}\"\n",
    "            document = pymupdf.open(doc_path)\n",
    "            for page in tqdm(document):\n",
    "                picture = page.get_pixmap()\n",
    "                picture.save(\"{}/page-{}.png\".format(images_dir, page.number + 1))\n",
    "            if self.verbose:\n",
    "                print(\"pdf_pages_to_images: the job for {} is done\".format(file))\n",
    "\n",
    "        return True\n",
    "\n",
    "    def heic_to_png(self):\n",
    "        if not os.path.isdir(self.images_path):\n",
    "            if self.verbose:\n",
    "                print(\"heic_to_png: Unlabeled images data directory does not exist.\")\n",
    "            return None\n",
    "\n",
    "        heic_files = [f for f in os.listdir(self.images_path) if f.lower().endswith(\".heic\")]\n",
    "        if not heic_files:\n",
    "            if self.verbose:\n",
    "                print(\"heic_to_png: No HEIC files found.\")\n",
    "            self.heic_converted = True\n",
    "            return None\n",
    "\n",
    "        for heic_file in heic_files:\n",
    "            heic_path = os.path.join(self.images_path, heic_file)\n",
    "            jpg_path = os.path.join(self.images_path, f\"{os.path.splitext(heic_file)[0]}.jpg\")\n",
    "\n",
    "            # Convert HEIC to JPG\n",
    "            try:\n",
    "                heif_file = pyheif.read(heic_path)\n",
    "                image = Image.frombytes(\n",
    "                    heif_file.mode,\n",
    "                    heif_file.size,\n",
    "                    heif_file.data,\n",
    "                    \"raw\",\n",
    "                    heif_file.mode,\n",
    "                    heif_file.stride,\n",
    "                )\n",
    "                image.save(jpg_path, \"JPEG\")\n",
    "                if self.verbose:\n",
    "                    print(f\"heic_to_png: Converted {heic_file} to {jpg_path} successfully.\")\n",
    "            except Exception as e:\n",
    "                if self.verbose:\n",
    "                    print(f\"heic_to_png: Failed to convert {heic_file}. Error: {str(e)}\")\n",
    "\n",
    "        self.heic_converted = True\n",
    "        return True\n",
    "\n",
    "    def heic_delete(self, custom_path=None, force_delete=False):\n",
    "        if not (self.heic_converted or force_delete):\n",
    "            if self.verbose:\n",
    "                print(\"heic_delete: no heic_files are deleted.\")\n",
    "            return None\n",
    "\n",
    "        if custom_path == None:\n",
    "            custom_path = self.images_path\n",
    "\n",
    "        if not os.path.isdir(custom_path):\n",
    "            if self.verbose:\n",
    "                print(\"heic_to_png: Unlabeled images data directory does not exist.\")\n",
    "            return None\n",
    "\n",
    "        heic_files = [f for f in os.listdir(custom_path) if f.lower().endswith(\".heic\")]\n",
    "        if not heic_files:\n",
    "            if self.verbose:\n",
    "                print(\"heic_to_png: No HEIC files found.\")\n",
    "            return None\n",
    "\n",
    "        for heic_file in heic_files:\n",
    "            heic_path = os.path.join(self.images_path, heic_file)\n",
    "\n",
    "            # Delete Heic\n",
    "            try:\n",
    "                os.remove(heic_path)\n",
    "                if self.verbose:\n",
    "                    print(f\"heic_to_png: {heic_path} is deleted successfully.\")\n",
    "            except Exception as e:\n",
    "                if self.verbose:\n",
    "                    print(f\"heic_to_png: Failed to convert {heic_path}. Error: {str(e)}\")\n",
    "\n",
    "        return True"
   ]
  },
  {
   "cell_type": "code",
   "execution_count": 149,
   "metadata": {},
   "outputs": [
    {
     "name": "stdout",
     "output_type": "stream",
     "text": [
      "heic_to_png: No HEIC files found.\n",
      "heic_to_png: No HEIC files found.\n"
     ]
    }
   ],
   "source": [
    "# im_prep = RawImagesPreparator(images_path=\"../data/images\", verbose=True)\n",
    "# im_prep.heic_to_png()\n",
    "# im_prep.heic_delete()"
   ]
  },
  {
   "cell_type": "markdown",
   "metadata": {},
   "source": [
    "## 2. Labeling is done using labelme tool"
   ]
  },
  {
   "cell_type": "code",
   "execution_count": 150,
   "metadata": {},
   "outputs": [],
   "source": [
    "# get dataframe from images\n",
    "import pandas as pd\n",
    "import shutil\n",
    "from sklearn.model_selection import train_test_split\n",
    "\n",
    "class DataFrameFromImages:\n",
    "\n",
    "    def __init__(self, dir_path=\"../data\", images_dir_name=\"images/images_all\", labels_dir_name=\"labels/labels_all\"):\n",
    "        self.dir_path = dir_path\n",
    "        self.images_dir_name = images_dir_name\n",
    "        self.labels_dir_name = labels_dir_name\n",
    "        self.df = None\n",
    "\n",
    "    def create_dataframe(self):\n",
    "        # labels and images have to be in one directory\n",
    "        path = os.path.join(self.dir_path)\n",
    "        images_path = os.path.join(path, self.images_dir_name)\n",
    "        labels_path = os.path.join(path, self.labels_dir_name)\n",
    "\n",
    "        if not all((os.path.isdir(self.dir_path), os.path.isdir(images_path), os.path.isdir(labels_path))):\n",
    "            print(\n",
    "                \"create_dataframe: one of provided paths:\\n{}\\n{}\\n{}\\n - is not valid.\".format(\n",
    "                    self.dir_path, images_path, labels_path\n",
    "                )\n",
    "            )\n",
    "            return None\n",
    "\n",
    "        images_files = [f for f in os.listdir(images_path) if not os.path.isdir(os.path.join(images_path, f))]\n",
    "        labels_files = [f[:-5] for f in os.listdir(labels_path) if not os.path.isdir(os.path.join(images_path, f))]\n",
    "        has_label = [1 if f.rsplit(\".\", 1)[0] in set(labels_files) else 0 for f in os.listdir(images_path) if not os.path.isdir(os.path.join(images_path, f))]\n",
    "\n",
    "        labels_files = [f for f in os.listdir(labels_path)]\n",
    "\n",
    "        try:\n",
    "            self.df = pd.DataFrame({\"img_name\": images_files, \"label\": has_label})\n",
    "            return self.df\n",
    "        except:\n",
    "            return None\n",
    "\n",
    "    def train_test_folder(self, stratify=None, train_size=0.85, verbose=False):\n",
    "        if self.df is None:\n",
    "            print(\"train_test_folder: \\nFirstly, create a dataframe.\")\n",
    "            return None\n",
    "\n",
    "        if stratify is None:\n",
    "            stratify = self.df[\"label\"]\n",
    "\n",
    "        train_images, val_images = train_test_split(self.df, train_size=train_size, stratify=stratify, shuffle=True)\n",
    "\n",
    "        images_path = os.path.join(self.dir_path, self.images_dir_name)\n",
    "        labels_path = os.path.join(self.dir_path, self.labels_dir_name)\n",
    "\n",
    "        def make_copies(images_df, postfix, verbose):\n",
    "            for ind in range(len(images_df)):\n",
    "                train_image = images_df.iloc[ind].to_numpy()\n",
    "                has_label = train_image[1]\n",
    "\n",
    "                if verbose:\n",
    "                    print(\"img:\", os.path.join(images_path, train_image[0]), os.path.join(images_path, postfix, train_image[0]))\n",
    "                try:\n",
    "                    shutil.copy(os.path.join(images_path, train_image[0]), os.path.join(images_path, postfix, train_image[0]))\n",
    "                except Exception as e:\n",
    "                    if not verbose:\n",
    "                        print(\"img:\", os.path.join(images_path, train_image[0]), os.path.join(images_path, postfix, train_image[0]))\n",
    "                    print(\"\\nException: {}\\n\".format(e))\n",
    "                \n",
    "                if has_label:\n",
    "\n",
    "                    if verbose:\n",
    "                        print(\"label:\", os.path.join(os.path.join(labels_path, train_image[0].rsplit(\".\", 1)[0] + \".json\")), os.path.join(labels_path, postfix, train_image[0].rsplit(\".\", 1)[0] + \".json\"))\n",
    "                    try:\n",
    "                        shutil.copy(os.path.join(os.path.join(labels_path, train_image[0].rsplit(\".\", 1)[0] + \".json\")), os.path.join(labels_path, postfix, train_image[0].rsplit(\".\", 1)[0] + \".json\"))\n",
    "                    except Exception as e:\n",
    "                        if not verbose:\n",
    "                            print(\"label:\", os.path.join(os.path.join(labels_path, train_image[0].rsplit(\".\", 1)[0] + \".json\")), os.path.join(labels_path, postfix, train_image[0].rsplit(\".\", 1)[0] + \".json\"))\n",
    "                        print(\"\\nException: {}\\n\".format(e))\n",
    "        try:\n",
    "            make_copies(train_images, \"train\", verbose)\n",
    "            make_copies(val_images, \"val\", verbose)\n",
    "        except Exception as e:\n",
    "            print(\"Exception: {}\".format(e))\n"
   ]
  },
  {
   "cell_type": "code",
   "execution_count": 165,
   "metadata": {},
   "outputs": [
    {
     "data": {
      "text/html": [
       "<div>\n",
       "<style scoped>\n",
       "    .dataframe tbody tr th:only-of-type {\n",
       "        vertical-align: middle;\n",
       "    }\n",
       "\n",
       "    .dataframe tbody tr th {\n",
       "        vertical-align: top;\n",
       "    }\n",
       "\n",
       "    .dataframe thead th {\n",
       "        text-align: right;\n",
       "    }\n",
       "</style>\n",
       "<table border=\"1\" class=\"dataframe\">\n",
       "  <thead>\n",
       "    <tr style=\"text-align: right;\">\n",
       "      <th></th>\n",
       "      <th>img_name</th>\n",
       "      <th>label</th>\n",
       "    </tr>\n",
       "  </thead>\n",
       "  <tbody>\n",
       "    <tr>\n",
       "      <th>0</th>\n",
       "      <td>handwritten-IMG_3700.jpg</td>\n",
       "      <td>0</td>\n",
       "    </tr>\n",
       "    <tr>\n",
       "      <th>1</th>\n",
       "      <td>bg_2.jpeg</td>\n",
       "      <td>0</td>\n",
       "    </tr>\n",
       "    <tr>\n",
       "      <th>2</th>\n",
       "      <td>efimov-page-105.png</td>\n",
       "      <td>0</td>\n",
       "    </tr>\n",
       "    <tr>\n",
       "      <th>3</th>\n",
       "      <td>filippov-page-6.png</td>\n",
       "      <td>0</td>\n",
       "    </tr>\n",
       "    <tr>\n",
       "      <th>4</th>\n",
       "      <td>filippov-page-34.png</td>\n",
       "      <td>1</td>\n",
       "    </tr>\n",
       "  </tbody>\n",
       "</table>\n",
       "</div>"
      ],
      "text/plain": [
       "                   img_name  label\n",
       "0  handwritten-IMG_3700.jpg      0\n",
       "1                 bg_2.jpeg      0\n",
       "2       efimov-page-105.png      0\n",
       "3       filippov-page-6.png      0\n",
       "4      filippov-page-34.png      1"
      ]
     },
     "execution_count": 165,
     "metadata": {},
     "output_type": "execute_result"
    }
   ],
   "source": [
    "df_cr = DataFrameFromImages()\n",
    "# df = df_cr.create_dataframe()\n",
    "# df_cr.train_test_folder(verbose=True)\n",
    "df.head()"
   ]
  },
  {
   "cell_type": "code",
   "execution_count": 167,
   "metadata": {},
   "outputs": [
    {
     "name": "stdout",
     "output_type": "stream",
     "text": [
      "Q:How many photos with diffeq? A:97\n",
      "325\n"
     ]
    }
   ],
   "source": [
    "print(\"Q:How many photos with diffeq? A:{}\".format(df['label'].sum()))\n",
    "print(len(df) - df['label'].sum())"
   ]
  },
  {
   "cell_type": "markdown",
   "metadata": {},
   "source": [
    "$\\frac{1}{4}$ of dataset has differential equations in it.\n",
    "\n",
    "I suppose, it's better to leave the equation undetected, than detect something that isn't a differential equation..."
   ]
  },
  {
   "cell_type": "markdown",
   "metadata": {},
   "source": [
    "## 3. Train models"
   ]
  },
  {
   "cell_type": "code",
   "execution_count": 168,
   "metadata": {},
   "outputs": [
    {
     "name": "stdout",
     "output_type": "stream",
     "text": [
      "358\n",
      "64\n"
     ]
    }
   ],
   "source": [
    "print(len(os.listdir(\"../data/images/train\")))\n",
    "print(len(os.listdir(\"../data/images/val\")))"
   ]
  },
  {
   "cell_type": "code",
   "execution_count": 155,
   "metadata": {},
   "outputs": [],
   "source": [
    "from ultralytics import YOLO\n",
    "\n",
    "# model = YOLO(model='yolo')"
   ]
  },
  {
   "cell_type": "code",
   "execution_count": null,
   "metadata": {},
   "outputs": [],
   "source": []
  }
 ],
 "metadata": {
  "kernelspec": {
   "display_name": "diffeq",
   "language": "python",
   "name": "python3"
  },
  "language_info": {
   "codemirror_mode": {
    "name": "ipython",
    "version": 3
   },
   "file_extension": ".py",
   "mimetype": "text/x-python",
   "name": "python",
   "nbconvert_exporter": "python",
   "pygments_lexer": "ipython3",
   "version": "3.12.2"
  }
 },
 "nbformat": 4,
 "nbformat_minor": 2
}
